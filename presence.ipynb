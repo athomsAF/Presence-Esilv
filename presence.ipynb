{
 "cells": [
  {
   "cell_type": "code",
   "execution_count": 1,
   "metadata": {},
   "outputs": [],
   "source": [
    "import socks\n",
    "import requests\n",
    "import json\n",
    "from bs4 import BeautifulSoup as bs\n",
    "import json"
   ]
  },
  {
   "cell_type": "code",
   "execution_count": null,
   "metadata": {},
   "outputs": [],
   "source": [
    "jsonurl='' #your json file path\n",
    "dataM=json.load(open(jsonurl, 'r', encoding='utf-8'))\n",
    "\n",
    "s= requests.Session()\n",
    "\n",
    "s.get(url)\n",
    "s.post(url,data={\"cookies\":dataM[\"CkThomas\"]})\n",
    "if ( s.get(\"https://www.leonard-de-vinci.net/presences\").url!=\"https://www.leonard-de-vinci.net/presences\"):\n",
    "    s.post(url,data={\"UserName\":dataM[\"IDThomas\"],\"Password\":dataM[\"MDPThomas\"],\"AuthMethod\":\"FormsAuthentication\"})\n",
    "    data=s.post(\"https://www.leonard-de-vinci.net/\",data={\"login\":dataM[\"IDThomas\"]})\n",
    "    dataM[\"CkThomas\"]=data.cookies.get_dict()[\"alvstu\"]\n",
    "    s.get(\"https://www.leonard-de-vinci.net/presences\")\n",
    "else: \n",
    "    print(\"ok with cookies\")\n",
    "\n",
    "with open(jsonurl, \"w\") as jsonFile:\n",
    "    json.dump(dataM, jsonFile)"
   ]
  }
 ],
 "metadata": {
  "kernelspec": {
   "display_name": "Python 3.10.8 64-bit",
   "language": "python",
   "name": "python3"
  },
  "language_info": {
   "codemirror_mode": {
    "name": "ipython",
    "version": 3
   },
   "file_extension": ".py",
   "mimetype": "text/x-python",
   "name": "python",
   "nbconvert_exporter": "python",
   "pygments_lexer": "ipython3",
   "version": "3.10.8"
  },
  "orig_nbformat": 4,
  "vscode": {
   "interpreter": {
    "hash": "e7370f93d1d0cde622a1f8e1c04877d8463912d04d973331ad4851f04de6915a"
   }
  }
 },
 "nbformat": 4,
 "nbformat_minor": 2
}
